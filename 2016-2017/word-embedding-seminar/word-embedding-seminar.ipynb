{
 "cells": [
  {
   "cell_type": "raw",
   "metadata": {
    "slideshow": {
     "slide_type": "skip"
    }
   },
   "source": [
    "<style type=\"text/css\">\n",
    ".input_prompt, .input_area, .output_prompt {\n",
    "display:none !important;\n",
    "}\n",
    ".reveal h1, .reveal h2 {\n",
    "    font-family:times\n",
    "}\n",
    "</style>"
   ]
  },
  {
   "cell_type": "markdown",
   "metadata": {
    "collapsed": false,
    "slideshow": {
     "slide_type": "slide"
    }
   },
   "source": [
    "# <center> Word2vec for Semantic Representation of Words</center>\n",
    "### <center> CS918 Natural Language Processing </center>\n",
    "\n",
    "###### <center> Bo Wang </center>\n",
    "<h6><center> February 2017 </center></h6>\n",
    "<br/>\n",
    "<center><img src=\"images/786px-Warwick_Crest.png\" width=\"90\"></center>"
   ]
  },
  {
   "cell_type": "markdown",
   "metadata": {
    "slideshow": {
     "slide_type": "slide"
    }
   },
   "source": [
    ">## \"You shall know a word by the company it keeps\" <br><br>\n",
    "<center>- Firth, J. R. (1957:11)</center>"
   ]
  },
  {
   "cell_type": "markdown",
   "metadata": {
    "slideshow": {
     "slide_type": "slide"
    }
   },
   "source": [
    "## Recap\n",
    "\n",
    "* Word embeddings allow to represent words in a high dimensional vector space in a way that the spatial relationships between these embeddings represent the relationships between words (share latent features). <br><br>\n",
    "\n",
    " * Dimensionality of the space is not that high, typically a few 100 dimensions.\n",
    "   * Each dimension has some semantic meaning.\n",
    " * Word embeddings is a language modeling method, more precisely a distributed vector representation of words.\n"
   ]
  },
  {
   "cell_type": "code",
   "execution_count": 2,
   "metadata": {
    "collapsed": false,
    "slideshow": {
     "slide_type": "subslide"
    }
   },
   "outputs": [
    {
     "data": {
      "image/png": "[encoded data removed]",
      "text/plain": [
       "<matplotlib.figure.Figure at 0x1121e7210>"
      ]
     },
     "metadata": {},
     "output_type": "display_data"
    }
   ],
   "source": [
    "%matplotlib inline\n",
    "\n",
    "import seaborn as sb\n",
    "import numpy as np\n",
    "\n",
    "words = ['queen', 'book', 'king', 'magazine', 'car', 'bike']\n",
    "vectors = np.array([[0.1,   0.3],  # queen\n",
    "                    [-0.5, -0.1],  # book\n",
    "                    [0.2,   0.2],  # king\n",
    "                    [-0.3, -0.2],  # magazine\n",
    "                    [-0.5,  0.4],  # car\n",
    "                    [-0.45, 0.3]]) # bike\n",
    "\n",
    "sb.plt.plot(vectors[:,0], vectors[:,1], 'o')\n",
    "sb.plt.xlim(-0.6, 0.3)\n",
    "sb.plt.ylim(-0.3, 0.5)\n",
    "for word, x, y in zip(words, vectors[:,0], vectors[:,1]):\n",
    "    sb.plt.annotate(word, (x, y), size=12)"
   ]
  },
  {
   "cell_type": "markdown",
   "metadata": {
    "slideshow": {
     "slide_type": "subslide"
    }
   },
   "source": [
    "* Compared to Bag of words: <br><br>\n",
    "\n",
    " * Dimensionality is low, and constant wrt the vocabulary size.\n",
    " * Word embeddings captures the semantic and syntactic similarities between words.\n",
    " \n",
    "\n",
    "* Compared to topic modeling: <br><br>\n",
    "\n",
    " * Better granularity, the base element is a word.\n",
    " * We can capture far more diverse semantic meanings without having to build a labeled training text.\n",
    " * Great for feature generation for ML models.\n",
    " * Though LDA is great for tagging."
   ]
  },
  {
   "cell_type": "markdown",
   "metadata": {
    "slideshow": {
     "slide_type": "subslide"
    }
   },
   "source": [
    "* What are word embeddings models good at: <br><br>\n",
    "\n",
    " * Modeling similarity between words\n",
    "         sim(tomato, beefsteak) < sim(apple, tomato) < sim(pear, apple)\n",
    "    \n",
    " * Allows algebric operations on word vectors \n",
    "         v(Paris) - v(France) ~= v(Berlin) - v(Germany)"
   ]
  },
  {
   "cell_type": "markdown",
   "metadata": {
    "slideshow": {
     "slide_type": "subslide"
    }
   },
   "source": [
    "* There are two recently-developed techniques that, by processing free-form text, produce high quality vector representations of words: <br><br>\n",
    " * word2vec, a iteration-based method.\n",
    "     * Introduced in a [2013 paper](http://arxiv.org/pdf/1301.3781.pdf) by Mikolov et al.\n",
    "     * Accompanied by a [C package](https://code.google.com/archive/p/word2vec/) <br><br>\n",
    " * GloVe, a count-based method.\n",
    "     * Introduced in [an EMNLP 2014 paper](http://www-nlp.stanford.edu/pubs/glove.pdf) by Pennington et al.\n",
    "     * Code available [here](http://nlp.stanford.edu/projects/glove/)"
   ]
  },
  {
   "cell_type": "code",
   "execution_count": 1,
   "metadata": {
    "collapsed": false,
    "slideshow": {
     "slide_type": "subslide"
    }
   },
   "outputs": [
    {
     "data": {
      "text/html": [
       "\n",
       "        <iframe\n",
       "            width=\"800\"\n",
       "            height=\"600\"\n",
       "            src=\"https://player.vimeo.com/video/112168934\"\n",
       "            frameborder=\"0\"\n",
       "            allowfullscreen\n",
       "        ></iframe>\n",
       "        "
      ],
      "text/plain": [
       "<IPython.lib.display.IFrame at 0x104765750>"
      ]
     },
     "execution_count": 1,
     "metadata": {},
     "output_type": "execute_result"
    }
   ],
   "source": [
    "# Word2vec\n",
    "from IPython.display import IFrame\n",
    "IFrame('https://player.vimeo.com/video/112168934', width=800, height=600)\n"
   ]
  },
  {
   "cell_type": "markdown",
   "metadata": {
    "slideshow": {
     "slide_type": "slide"
    }
   },
   "source": [
    "# Gensim\n",
    "\n",
    "* An open-source vector space modeling and topic modeling toolkit (Python).\n",
    "    * Homepage: http://radimrehurek.com/gensim/\n",
    "    * Github: https://github.com/piskvorky/gensim/\n",
    "    * LGPL: http://www.gnu.org/licenses/lgpl.html\n",
    "\n",
    "<center><img src=\"images/gensim-commits.png\" width=\"1000\"></center>"
   ]
  },
  {
   "cell_type": "markdown",
   "metadata": {
    "slideshow": {
     "slide_type": "subslide"
    }
   },
   "source": [
    "### Features\n",
    "\n",
    "* tf-idf\n",
    "* LSA\n",
    "* LDA\n",
    "* Text Summarization\n",
    "* **Word2vec** and Doc2vec\n",
    "* etc\n",
    "\n",
    "<br><br>\n",
    "* Parallel (multi-threaded) processing."
   ]
  },
  {
   "cell_type": "markdown",
   "metadata": {
    "slideshow": {
     "slide_type": "slide"
    }
   },
   "source": [
    "### Preparing the Input\n",
    "\n",
    "* Gensim's word2vec expects a sequence of sentences as its input\n",
    "    * Each sentence a list of words (utf-8 strings).\n",
    "    \n",
    ">```python\n",
    "import gensim\n",
    "sentences = [['first', 'sentence'], ['second', 'sentence']]\n",
    "# train word2vec on the two sentences \n",
    "model = gensim.models.Word2Vec(sentences, min_count=1)\n",
    "```\n",
    "\n",
    "* Using built-in list is convenient, but can use up a lot of RAM when the input is large."
   ]
  },
  {
   "cell_type": "markdown",
   "metadata": {
    "slideshow": {
     "slide_type": "subslide"
    }
   },
   "source": [
    "### Preparing the Input\n",
    "###### A memory-friendly iterator\n",
    "\n",
    "* No need to keep everything in RAM: we can provide one sentence, process it, forget it, load another sentence...\n",
    "<br><br>\n",
    "\n",
    "```python\n",
    "class MySentences(object):\n",
    "    def __init__(self, dirname):\n",
    "        self.dirname = dirname\n",
    " \n",
    "    def __iter__(self):\n",
    "        for fname in os.listdir(self.dirname):\n",
    "            for line in open(os.path.join(self.dirname, fname)):\n",
    "                yield line.split() # yield gives you a generator\n",
    " \n",
    "sentences = MySentences('/some/directory') # a memory-friendly iterator\n",
    "model = gensim.models.Word2Vec(sentences)\n",
    "```\n",
    "\n",
    "<br><br>\n",
    "* Any preprocessing can be done inside the MySentences iterator."
   ]
  },
  {
   "cell_type": "markdown",
   "metadata": {
    "slideshow": {
     "slide_type": "subslide"
    }
   },
   "source": [
    "### Preparing the Input\n",
    "###### word2phrases\n",
    "\n",
    "* Vector for representing 'san francisco'?\n",
    "* Check out `gensim.models.phrases`\n",
    "    * Automatically detect common phrases (multiword expressions) from a stream of sentences.\n",
    "    * The phrases are collocations (frequently co-occurring tokens)."
   ]
  },
  {
   "cell_type": "code",
   "execution_count": null,
   "metadata": {
    "collapsed": true,
    "slideshow": {
     "slide_type": "subslide"
    }
   },
   "outputs": [],
   "source": [
    "from gensim.models.phrases import Phrases\n",
    "import cPickle as pickle\n",
    "\n",
    "with open('.../tokenized_tweets.pkl','rb') as fp:\n",
    "    data=pickle.load(fp)\n",
    "bigram = Phrases(data, min_count=5, threshold=10.0)\n",
    "trigram = Phrases(bigram[data], min_count=5, threshold=7.0)\n",
    "fourgram = Phrases(trigram[bigram[data]], min_count=5, threshold=6.0)\n",
    "fivegram = Phrases(fourgram[trigram[bigram[data]]], min_count=5, threshold=5.0)"
   ]
  },
  {
   "cell_type": "markdown",
   "metadata": {
    "slideshow": {
     "slide_type": "subslide"
    }
   },
   "source": [
    "### Preparing the Input\n",
    "###### word2phrases\n",
    "\n",
    "* The parameter `threshold` represents a threshold for forming the phrases (higher means fewer phrases). A phrase of words a and b is accepted if $(count(a, b) - min\\_count) * N / (count(a) * count(b)) > threshold$, where $N$ is the total vocabulary size.\n",
    "\n",
    ">```python\n",
    ">>> sent = [u'the', u'mayor', u'of', u'new', u'york', u'was', u'there']\n",
    ">>> print(bigram[sent])\n",
    "[u'the', u'mayor', u'of', u'new_york', u'was', u'there']\n",
    "```"
   ]
  },
  {
   "cell_type": "markdown",
   "metadata": {
    "slideshow": {
     "slide_type": "slide"
    }
   },
   "source": [
    "### Training\n",
    "\n",
    "* `gensim.models.word2vec` is optimised using Cython. 24x faster.\n",
    "* Training a model is as simple as it can get in Gensim."
   ]
  },
  {
   "cell_type": "markdown",
   "metadata": {
    "slideshow": {
     "slide_type": "subslide"
    }
   },
   "source": [
    "### Training\n",
    "###### Settings\n",
    "\n",
    "* Architecture: skip-gram (slower, better for infrequent words) vs CBOW (fast)\n",
    "* The training algorithm: hierarchical softmax (better for infrequent words) vs negative sampling (better for frequent words, better with low dimensional vectors)\n",
    "* Sub-sampling of frequent words: can improve both accuracy and speed for large data sets (useful values are in range 1e-3 to 1e-5)\n",
    "* Dimensionality of the word vectors: usually more is better, but not always\n",
    "* Context (window) size: for skip-gram usually around 10, for CBOW around 5\n",
    "* The workers parameter (need Cython) is for training parallelization, to speed up training. "
   ]
  },
  {
   "cell_type": "code",
   "execution_count": null,
   "metadata": {
    "collapsed": true,
    "slideshow": {
     "slide_type": "subslide"
    }
   },
   "outputs": [],
   "source": [
    "from gensim.models.phrases import Phrases\n",
    "from gensim.models.word2vec import Word2Vec\n",
    "\n",
    "# Preprocessing your data\n",
    "\n",
    "# Generate phrases if you wish so, using gensim.models.phrases\n",
    "\n",
    "# Training:\n",
    "model = Word2Vec(fivegram[data], sg = 1, size = 300, window = 5, workers = 4, hs = 1, min_count = 5, sample = 1e-3)\n",
    "## Save in a format compatible with the original word2vec implementation:\n",
    "model.save_word2vec_format('../word_embedding.model.txt')\n",
    "## Trim unneeded model memory\n",
    "## You cannot continue training after doing a replace:\n",
    "model.init_sims(replace=True)"
   ]
  },
  {
   "cell_type": "markdown",
   "metadata": {
    "slideshow": {
     "slide_type": "subslide"
    }
   },
   "source": [
    "### Training\n",
    "###### Resuming training\n",
    "\n",
    "* Can load a model and continue training it with more sentences:\n",
    ">```python\n",
    "model = gensim.models.Word2Vec.load('/tmp/mymodel')\n",
    "model.train(more_sentences)\n",
    "```\n",
    "* ~~However, the vocabulary remains limited to that discovered during the initial scan. Out-of-vocabulary words are ignored.~~\n",
    "    * ~~Work in process.~~\n",
    "* Gensim 0.13.3 (2016-10-20) has added vocabulary expansion feature to word2vec, aka online word2vec.\n",
    ">```python\n",
    "model.build_vocab(new_sentences, update=True)\n",
    "model.train(more_sentences)\n",
    "```\n",
    "\n",
    "* Not possible to resume training with models generated by the C tool, i.e. `load_word2vec_format()`"
   ]
  },
  {
   "cell_type": "markdown",
   "metadata": {
    "slideshow": {
     "slide_type": "subslide"
    }
   },
   "source": [
    "### Training\n",
    "###### Memory and speed\n",
    "\n",
    "* Gensim word2vec implementation specifics:\n",
    "     * Training time ~ 8hours on a 8 proc/8 threads to learn 600 dimensions on a 1.9B words corpus\n",
    "     * Memory requirements depends on the vocabulary size and on the number of dimensions:\n",
    "            3 matrices * 4 bytes (float) * |dimensions| * |vocabulary|\n",
    "     * E.g. if your training data contains 100,000 unique words, and you asked for layer size=200, the model will require approx. 100,000\\*200\\*4\\*3 bytes = ~229MB\n",
    "\n",
    "\n",
    "* The [GloVe implementation in Python](https://github.com/maciejkula/glove-python) takes half the time but has a quadratic memory size. Check pull requests for memory optimizations."
   ]
  },
  {
   "cell_type": "markdown",
   "metadata": {
    "slideshow": {
     "slide_type": "slide"
    }
   },
   "source": [
    "### Evaluation\n",
    "\n",
    "* Evaluation depends on your end application.\n",
    "* Google have released their testing set of about 20,000 syntactic and semantic test examples, following the \"A is to B as C is to D\" task: http://word2vec.googlecode.com/svn/trunk/questions-words.txt\n",
    "<br><br>\n",
    "```python\n",
    ">>> model.accuracy('/tmp/questions-words.txt')\n",
    "2014-02-01 22:14:28,387 : INFO : family: 88.9% (304/342)\n",
    "2014-02-01 22:29:24,006 : INFO : gram1-adjective-to-adverb: 32.4% (263/812)\n",
    "2014-02-01 22:36:26,528 : INFO : gram2-opposite: 50.3% (191/380)\n",
    "2014-02-01 23:00:52,406 : INFO : gram3-comparative: 91.7% (1222/1332)\n",
    "2014-02-01 23:13:48,243 : INFO : gram4-superlative: 87.9% (617/702)\n",
    "2014-02-01 23:29:52,268 : INFO : gram5-present-participle: 79.4% (691/870)\n",
    "2014-02-01 23:57:04,965 : INFO : gram7-past-tense: 67.1% (995/1482)\n",
    "2014-02-02 00:15:18,525 : INFO : gram8-plural: 89.6% (889/992)\n",
    "2014-02-02 00:28:18,140 : INFO : gram9-plural-verbs: 68.7% (482/702)\n",
    "2014-02-02 00:28:18,140 : INFO : total: 74.3% (5654/7614)\n",
    "```\n",
    "<br><br>\n",
    "* Again it's always best to evaluate directly on your intended task.\n",
    "     * _\"Do I get a significant better classification performance after adding the word vector features?\"_"
   ]
  },
  {
   "cell_type": "markdown",
   "metadata": {
    "slideshow": {
     "slide_type": "slide"
    }
   },
   "source": [
    "### Storing and loading models\n",
    "\n",
    "* Standard Gensim methods:\n",
    "\n",
    ">```python\n",
    "model.save('/tmp/mymodel')\n",
    "new_model = gensim.models.Word2Vec.load('/tmp/mymodel')\n",
    "```\n",
    "\n",
    "  which uses pickle internally, optionally mmap'ing the model's internal large NumPy matrices into virtual memory directly from disk files, for inter-process memory sharing.\n",
    "  \n",
    "\n",
    "* You can also:\n",
    "    * Save in a format compatible with the original word2vec implementation.\n",
    "    * Load models created by the original C tool, both using its text and binary formats:\n",
    "\n",
    ">```python    \n",
    "model = Word2Vec.load_word2vec_format('/tmp/vectors.txt', binary=False)\n",
    "# using gzipped/bz2 input works too, no need to unzip:\n",
    "model = Word2Vec.load_word2vec_format('/tmp/vectors.bin.gz', binary=True)\n",
    "```"
   ]
  },
  {
   "cell_type": "markdown",
   "metadata": {
    "slideshow": {
     "slide_type": "slide"
    }
   },
   "source": [
    "### Using the model\n",
    "###### Similarities\n",
    "\n",
    "* Word2vec supports several word similarity tasks out of the box:\n",
    "<br><br>\n",
    "\n",
    "```python\n",
    ">>> model.most_similar(positive=['woman', 'king'], negative=['man'])\n",
    "[('queen', 0.50882536), ...]\n",
    "\n",
    ">>> model.most_similar_cosmul(positive=['baghdad', 'england'], negative=['london'])\n",
    "[(u'iraq', 0.8488819003105164), ...]\n",
    "\n",
    ">>> model.doesnt_match(\"breakfast cereal dinner lunch\".split())\n",
    "'cereal'\n",
    "\n",
    ">>> model.similarity('woman', 'man')\n",
    "0.73723527\n",
    "\n",
    ">>> model['computer']  # raw numpy vector of a word\n",
    "array([-0.00449447, -0.00310097,  0.02421786, ...], dtype=float32)\n",
    "```\n",
    "\n",
    "* `most_similar` computes the cosine similarity between word vectors, while `most_similar_cosmul` proposed by [Omer Levy and Yoav Goldberg in 2014](http://www.cs.bgu.ac.il/~yoavg/publications/conll2014analogies.pdf) is less susceptible to one large distance dominating the calculation thus amplifies the differences between small quantities."
   ]
  },
  {
   "cell_type": "code",
   "execution_count": 4,
   "metadata": {
    "collapsed": false,
    "slideshow": {
     "slide_type": "subslide"
    }
   },
   "outputs": [
    {
     "data": {
      "text/html": [
       "\n",
       "    <div class=\"bk-banner\">\n",
       "        <a href=\"http://bokeh.pydata.org\" target=\"_blank\" class=\"bk-logo bk-logo-small bk-logo-notebook\"></a>\n",
       "        <span id=\"d8fb8b1a-79b4-4920-af15-c8ea493e0245\">Loading BokehJS ...</span>\n",
       "    </div>"
      ]
     },
     "metadata": {},
     "output_type": "display_data"
    },
    {
     "data": {
      "application/javascript": [
       "\n",
       "(function(global) {\n",
       "  function now() {\n",
       "    return new Date();\n",
       "  }\n",
       "\n",
       "  if (typeof (window._bokeh_onload_callbacks) === \"undefined\") {\n",
       "    window._bokeh_onload_callbacks = [];\n",
       "  }\n",
       "\n",
       "  function run_callbacks() {\n",
       "    window._bokeh_onload_callbacks.forEach(function(callback) { callback() });\n",
       "    delete window._bokeh_onload_callbacks\n",
       "    console.info(\"Bokeh: all callbacks have finished\");\n",
       "  }\n",
       "\n",
       "  function load_libs(js_urls, callback) {\n",
       "    window._bokeh_onload_callbacks.push(callback);\n",
       "    if (window._bokeh_is_loading > 0) {\n",
       "      console.log(\"Bokeh: BokehJS is being loaded, scheduling callback at\", now());\n",
       "      return null;\n",
       "    }\n",
       "    if (js_urls == null || js_urls.length === 0) {\n",
       "      run_callbacks();\n",
       "      return null;\n",
       "    }\n",
       "    console.log(\"Bokeh: BokehJS not loaded, scheduling load and callback at\", now());\n",
       "    window._bokeh_is_loading = js_urls.length;\n",
       "    for (var i = 0; i < js_urls.length; i++) {\n",
       "      var url = js_urls[i];\n",
       "      var s = document.createElement('script');\n",
       "      s.src = url;\n",
       "      s.async = false;\n",
       "      s.onreadystatechange = s.onload = function() {\n",
       "        window._bokeh_is_loading--;\n",
       "        if (window._bokeh_is_loading === 0) {\n",
       "          console.log(\"Bokeh: all BokehJS libraries loaded\");\n",
       "          run_callbacks()\n",
       "        }\n",
       "      };\n",
       "      s.onerror = function() {\n",
       "        console.warn(\"failed to load library \" + url);\n",
       "      };\n",
       "      console.log(\"Bokeh: injecting script tag for BokehJS library: \", url);\n",
       "      document.getElementsByTagName(\"head\")[0].appendChild(s);\n",
       "    }\n",
       "  };\n",
       "\n",
       "  var js_urls = ['https://cdn.pydata.org/bokeh/release/bokeh-0.11.1.min.js', 'https://cdn.pydata.org/bokeh/release/bokeh-widgets-0.11.1.min.js', 'https://cdn.pydata.org/bokeh/release/bokeh-compiler-0.11.1.min.js'];\n",
       "\n",
       "  var inline_js = [\n",
       "    function(Bokeh) {\n",
       "      Bokeh.set_log_level(\"info\");\n",
       "    },\n",
       "    \n",
       "    function(Bokeh) {\n",
       "      Bokeh.$(\"#d8fb8b1a-79b4-4920-af15-c8ea493e0245\").text(\"BokehJS successfully loaded\");\n",
       "    },\n",
       "    function(Bokeh) {\n",
       "      console.log(\"Bokeh: injecting CSS: https://cdn.pydata.org/bokeh/release/bokeh-0.11.1.min.css\");\n",
       "      Bokeh.embed.inject_css(\"https://cdn.pydata.org/bokeh/release/bokeh-0.11.1.min.css\");\n",
       "      console.log(\"Bokeh: injecting CSS: https://cdn.pydata.org/bokeh/release/bokeh-widgets-0.11.1.min.css\");\n",
       "      Bokeh.embed.inject_css(\"https://cdn.pydata.org/bokeh/release/bokeh-widgets-0.11.1.min.css\");\n",
       "    }\n",
       "  ];\n",
       "\n",
       "  function run_inline_js() {\n",
       "    for (var i = 0; i < inline_js.length; i++) {\n",
       "      inline_js[i](window.Bokeh);\n",
       "    }\n",
       "  }\n",
       "\n",
       "  if (window._bokeh_is_loading === 0) {\n",
       "    console.log(\"Bokeh: BokehJS loaded, going straight to plotting\");\n",
       "    run_inline_js();\n",
       "  } else {\n",
       "    load_libs(js_urls, function() {\n",
       "      console.log(\"Bokeh: BokehJS plotting callback run at\", now());\n",
       "      run_inline_js();\n",
       "    });\n",
       "  }\n",
       "}(this));"
      ]
     },
     "metadata": {},
     "output_type": "display_data"
    }
   ],
   "source": [
    "### Using the model\n",
    "###### Similarities\n",
    "%matplotlib inline\n",
    "\n",
    "from gensim.models.word2vec import Word2Vec\n",
    "from sklearn.manifold import TSNE\n",
    "import numpy as np\n",
    "import bokeh\n",
    "from bokeh.charts import Scatter, output_notebook, show\n",
    "from bokeh.plotting import figure, show, output_file\n",
    "\n",
    "model = Word2Vec.load_word2vec_format('/Users/bowang/Dropbox/fivegram_embedding_model.txt', binary=False)\n",
    "tsne = TSNE(n_components=2, random_state=0)\n",
    "party_leaders=['miliband','clegg','bennett','sturgeon','farage','cameron']\n",
    "leader_vec=[]\n",
    "#Create a list of vectors for party leaders\n",
    "for p in party_leaders:\n",
    "    leader_vec.append(model[p])\n",
    "leader_vec=np.asarray(leader_vec)\n",
    "#Mapping it to 2D space\n",
    "leader_vec=tsne.fit_transform(leader_vec)\n",
    "\n",
    "p=figure(title=\"Who are these people?\")\n",
    "output_notebook()\n",
    "p.circle(leader_vec[:,0],leader_vec[:,1])\n",
    "for party_leader, x, y in zip(party_leaders, leader_vec[:,0], leader_vec[:,1]):\n",
    "    p.text([x],[y],text=[party_leader])"
   ]
  },
  {
   "cell_type": "code",
   "execution_count": 5,
   "metadata": {
    "collapsed": false,
    "slideshow": {
     "slide_type": "subslide"
    }
   },
   "outputs": [
    {
     "data": {
      "text/html": [
       "\n",
       "\n",
       "    <div class=\"plotdiv\" id=\"1c879751-432a-4e49-8309-64b52f31c779\"></div>\n",
       "<script type=\"text/javascript\">\n",
       "  \n",
       "  (function(global) {\n",
       "    function now() {\n",
       "      return new Date();\n",
       "    }\n",
       "  \n",
       "    if (typeof (window._bokeh_onload_callbacks) === \"undefined\") {\n",
       "      window._bokeh_onload_callbacks = [];\n",
       "    }\n",
       "  \n",
       "    function run_callbacks() {\n",
       "      window._bokeh_onload_callbacks.forEach(function(callback) { callback() });\n",
       "      delete window._bokeh_onload_callbacks\n",
       "      console.info(\"Bokeh: all callbacks have finished\");\n",
       "    }\n",
       "  \n",
       "    function load_libs(js_urls, callback) {\n",
       "      window._bokeh_onload_callbacks.push(callback);\n",
       "      if (window._bokeh_is_loading > 0) {\n",
       "        console.log(\"Bokeh: BokehJS is being loaded, scheduling callback at\", now());\n",
       "        return null;\n",
       "      }\n",
       "      if (js_urls == null || js_urls.length === 0) {\n",
       "        run_callbacks();\n",
       "        return null;\n",
       "      }\n",
       "      console.log(\"Bokeh: BokehJS not loaded, scheduling load and callback at\", now());\n",
       "      window._bokeh_is_loading = js_urls.length;\n",
       "      for (var i = 0; i < js_urls.length; i++) {\n",
       "        var url = js_urls[i];\n",
       "        var s = document.createElement('script');\n",
       "        s.src = url;\n",
       "        s.async = false;\n",
       "        s.onreadystatechange = s.onload = function() {\n",
       "          window._bokeh_is_loading--;\n",
       "          if (window._bokeh_is_loading === 0) {\n",
       "            console.log(\"Bokeh: all BokehJS libraries loaded\");\n",
       "            run_callbacks()\n",
       "          }\n",
       "        };\n",
       "        s.onerror = function() {\n",
       "          console.warn(\"failed to load library \" + url);\n",
       "        };\n",
       "        console.log(\"Bokeh: injecting script tag for BokehJS library: \", url);\n",
       "        document.getElementsByTagName(\"head\")[0].appendChild(s);\n",
       "      }\n",
       "    };var element = document.getElementById(\"1c879751-432a-4e49-8309-64b52f31c779\");\n",
       "    if (element == null) {\n",
       "      console.log(\"Bokeh: ERROR: autoload.js configured with elementid '1c879751-432a-4e49-8309-64b52f31c779' but no matching script tag was found. \")\n",
       "      return false;\n",
       "    }\n",
       "  \n",
       "    var js_urls = [];\n",
       "  \n",
       "    var inline_js = [\n",
       "      function(Bokeh) {\n",
       "        Bokeh.$(function() {\n",
       "            var docs_json = {\"a66775a8-437b-4f64-9329-0fbd9ffe5e64\":{\"roots\":{\"references\":[{\"attributes\":{\"callback\":null,\"column_names\":[\"y\",\"text\",\"x\"],\"data\":{\"text\":[\"sturgeon\"],\"x\":[9.501815219600147e-05],\"y\":[-1.4514607534496828e-05]}},\"id\":\"faf7c3a9-5d35-47fb-be81-9dafd1e698e3\",\"type\":\"ColumnDataSource\"},{\"attributes\":{\"callback\":null,\"column_names\":[\"y\",\"text\",\"x\"],\"data\":{\"text\":[\"cameron\"],\"x\":[1.4937718345578333e-05],\"y\":[0.00014414932548595123]}},\"id\":\"d0786f49-61fc-4660-9283-60cc40e4143a\",\"type\":\"ColumnDataSource\"},{\"attributes\":{},\"id\":\"119fda42-fe08-431a-b682-453e59c3a091\",\"type\":\"BasicTicker\"},{\"attributes\":{\"bottom_units\":\"screen\",\"fill_alpha\":{\"value\":0.5},\"fill_color\":{\"value\":\"lightgrey\"},\"left_units\":\"screen\",\"level\":\"overlay\",\"line_alpha\":{\"value\":1.0},\"line_color\":{\"value\":\"black\"},\"line_dash\":[4,4],\"line_width\":{\"value\":2},\"plot\":null,\"render_mode\":\"css\",\"right_units\":\"screen\",\"top_units\":\"screen\"},\"id\":\"2f51376b-2af0-4df2-893f-ea0355bc6d90\",\"type\":\"BoxAnnotation\"},{\"attributes\":{\"callback\":null},\"id\":\"ddc813b2-3920-41c2-b803-3504639dfd3e\",\"type\":\"DataRange1d\"},{\"attributes\":{\"data_source\":{\"id\":\"d0786f49-61fc-4660-9283-60cc40e4143a\",\"type\":\"ColumnDataSource\"},\"glyph\":{\"id\":\"cbeeefd1-2389-4c08-a725-9a49a8b14d85\",\"type\":\"Text\"},\"hover_glyph\":null,\"nonselection_glyph\":{\"id\":\"e47c5189-0abe-4509-bb6e-a8a4382751c2\",\"type\":\"Text\"},\"selection_glyph\":null},\"id\":\"2b3a74f0-af49-42bb-aa9b-79030ae95060\",\"type\":\"GlyphRenderer\"},{\"attributes\":{\"plot\":{\"id\":\"d4179104-7d30-434b-905e-c1d94ec8b428\",\"subtype\":\"Figure\",\"type\":\"Plot\"}},\"id\":\"77839af3-0246-49f9-8629-3589f5e82eb1\",\"type\":\"PanTool\"},{\"attributes\":{\"plot\":{\"id\":\"83f77f1d-9e88-4a99-bcae-f63865cda1e1\",\"subtype\":\"Figure\",\"type\":\"Plot\"}},\"id\":\"3aa7c6a6-39b0-443a-b60e-61ddefd614a4\",\"type\":\"PanTool\"},{\"attributes\":{\"data_source\":{\"id\":\"eb9f5e43-24c4-48bb-a23a-e7f4b7066288\",\"type\":\"ColumnDataSource\"},\"glyph\":{\"id\":\"abfca2ca-c8cb-469c-8796-cc53f8a72f29\",\"type\":\"Circle\"},\"hover_glyph\":null,\"nonselection_glyph\":{\"id\":\"07f478a6-67bb-4283-87ac-c4d48ca81948\",\"type\":\"Circle\"},\"selection_glyph\":null},\"id\":\"6b46f183-349e-4d69-9cc1-921707fe35f9\",\"type\":\"GlyphRenderer\"},{\"attributes\":{\"overlay\":{\"id\":\"f0d407da-bf6c-4a21-a22e-85822b95a590\",\"type\":\"BoxAnnotation\"},\"plot\":{\"id\":\"d4179104-7d30-434b-905e-c1d94ec8b428\",\"subtype\":\"Figure\",\"type\":\"Plot\"}},\"id\":\"2e20429f-73aa-44fd-9d21-80d369045779\",\"type\":\"BoxZoomTool\"},{\"attributes\":{\"text_alpha\":{\"value\":0.1},\"text_color\":{\"value\":\"black\"},\"x\":{\"field\":\"x\"},\"y\":{\"field\":\"y\"}},\"id\":\"d823f266-f9dd-4cb0-84b6-0ad2beaab239\",\"type\":\"Text\"},{\"attributes\":{\"plot\":{\"id\":\"83f77f1d-9e88-4a99-bcae-f63865cda1e1\",\"subtype\":\"Figure\",\"type\":\"Plot\"}},\"id\":\"6faea913-24ab-4f6f-9f15-98927b03ae7c\",\"type\":\"ResetTool\"},{\"attributes\":{\"callback\":null},\"id\":\"348110ef-0ec6-4ef7-be2d-6b501ca31d74\",\"type\":\"DataRange1d\"},{\"attributes\":{\"callback\":null,\"column_names\":[\"y\",\"text\",\"x\"],\"data\":{\"text\":[\"bennett\"],\"x\":[0.00018545834414803838],\"y\":[-9.524807567101665e-05]}},\"id\":\"8babbc7a-efdd-4846-8523-ea4b1703d533\",\"type\":\"ColumnDataSource\"},{\"attributes\":{\"fill_color\":{\"value\":\"#1f77b4\"},\"line_color\":{\"value\":\"#1f77b4\"},\"x\":{\"field\":\"x\"},\"y\":{\"field\":\"y\"}},\"id\":\"abfca2ca-c8cb-469c-8796-cc53f8a72f29\",\"type\":\"Circle\"},{\"attributes\":{\"text_alpha\":{\"value\":0.1},\"text_color\":{\"value\":\"black\"},\"x\":{\"field\":\"x\"},\"y\":{\"field\":\"y\"}},\"id\":\"d8b65b3a-1a9f-4418-a0ac-bb2fc08729c4\",\"type\":\"Text\"},{\"attributes\":{\"callback\":null,\"column_names\":[\"y\",\"text\",\"x\"],\"data\":{\"text\":[\"farage\"],\"x\":[-8.9218543606267e-06],\"y\":[4.0991507266997336e-05]}},\"id\":\"59b5182c-6fea-4d7a-ab5e-d97cbf21a20d\",\"type\":\"ColumnDataSource\"},{\"attributes\":{\"text_color\":{\"value\":\"black\"},\"x\":{\"field\":\"x\"},\"y\":{\"field\":\"y\"}},\"id\":\"9cf9d8da-a4b7-4aa4-972c-29911d0ebee4\",\"type\":\"Text\"},{\"attributes\":{\"callback\":null,\"column_names\":[\"y\",\"text\",\"x\"],\"data\":{\"text\":[\"miliband\"],\"x\":[0.00017556752068970783],\"y\":[4.0181985731984285e-05]}},\"id\":\"a6e04384-e968-4514-bfac-ce046b038499\",\"type\":\"ColumnDataSource\"},{\"attributes\":{\"text_alpha\":{\"value\":0.1},\"text_color\":{\"value\":\"black\"},\"x\":{\"field\":\"x\"},\"y\":{\"field\":\"y\"}},\"id\":\"9b7014e6-7a6b-41df-9e95-c7651f6feba2\",\"type\":\"Text\"},{\"attributes\":{\"data_source\":{\"id\":\"0e464b50-513a-433d-9857-cc815ba89232\",\"type\":\"ColumnDataSource\"},\"glyph\":{\"id\":\"2371fe92-a435-4505-a0d3-9d1883326db6\",\"type\":\"Text\"},\"hover_glyph\":null,\"nonselection_glyph\":{\"id\":\"0c34c361-8e90-41be-a834-30b7d8918939\",\"type\":\"Text\"},\"selection_glyph\":null},\"id\":\"0091e84b-bdda-4f21-8c00-edc047a06730\",\"type\":\"GlyphRenderer\"},{\"attributes\":{\"data_source\":{\"id\":\"59b5182c-6fea-4d7a-ab5e-d97cbf21a20d\",\"type\":\"ColumnDataSource\"},\"glyph\":{\"id\":\"19ac3ccf-d123-43f4-ad26-ef32532bc865\",\"type\":\"Text\"},\"hover_glyph\":null,\"nonselection_glyph\":{\"id\":\"25ab85bb-db55-42d6-afa8-f344698f7ec4\",\"type\":\"Text\"},\"selection_glyph\":null},\"id\":\"23940986-7bfb-44d0-9997-760b76c5a7d5\",\"type\":\"GlyphRenderer\"},{\"attributes\":{},\"id\":\"a09e0680-0996-4e71-9176-b105a72d17e7\",\"type\":\"BasicTickFormatter\"},{\"attributes\":{\"data_source\":{\"id\":\"2cc9a563-699f-4878-b601-ae619bd81861\",\"type\":\"ColumnDataSource\"},\"glyph\":{\"id\":\"9cf9d8da-a4b7-4aa4-972c-29911d0ebee4\",\"type\":\"Text\"},\"hover_glyph\":null,\"nonselection_glyph\":{\"id\":\"9b7014e6-7a6b-41df-9e95-c7651f6feba2\",\"type\":\"Text\"},\"selection_glyph\":null},\"id\":\"0d331bcf-45ce-4dbe-be98-053f0b8b2c47\",\"type\":\"GlyphRenderer\"},{\"attributes\":{\"text_color\":{\"value\":\"black\"},\"x\":{\"field\":\"x\"},\"y\":{\"field\":\"y\"}},\"id\":\"8fa82510-53d4-4ea8-ae78-67c1131f1b70\",\"type\":\"Text\"},{\"attributes\":{},\"id\":\"c2a53d71-b9cf-4f67-875b-77c917c715a4\",\"type\":\"BasicTicker\"},{\"attributes\":{\"below\":[{\"id\":\"192a936a-21a5-49c7-aaba-5716bc4021c6\",\"type\":\"LinearAxis\"}],\"left\":[{\"id\":\"0e7fda4a-62dc-4b16-aec9-5befca83e571\",\"type\":\"LinearAxis\"}],\"renderers\":[{\"id\":\"192a936a-21a5-49c7-aaba-5716bc4021c6\",\"type\":\"LinearAxis\"},{\"id\":\"274b429d-b9a6-4022-8cbd-0eabe7c79847\",\"type\":\"Grid\"},{\"id\":\"0e7fda4a-62dc-4b16-aec9-5befca83e571\",\"type\":\"LinearAxis\"},{\"id\":\"be039f20-e9c2-4cf5-a896-e84555caf687\",\"type\":\"Grid\"},{\"id\":\"2f51376b-2af0-4df2-893f-ea0355bc6d90\",\"type\":\"BoxAnnotation\"},{\"id\":\"6b46f183-349e-4d69-9cc1-921707fe35f9\",\"type\":\"GlyphRenderer\"},{\"id\":\"d11390c4-084c-4f93-8a31-13798c9b9763\",\"type\":\"GlyphRenderer\"},{\"id\":\"0091e84b-bdda-4f21-8c00-edc047a06730\",\"type\":\"GlyphRenderer\"},{\"id\":\"2932613b-992e-4ad3-aacb-cb9f5489d246\",\"type\":\"GlyphRenderer\"},{\"id\":\"fd1ff3d8-d00b-46bc-ac9a-dc4d43727889\",\"type\":\"GlyphRenderer\"},{\"id\":\"23940986-7bfb-44d0-9997-760b76c5a7d5\",\"type\":\"GlyphRenderer\"},{\"id\":\"e5a3eaa8-a8d0-4b3b-93d4-61295b811731\",\"type\":\"GlyphRenderer\"}],\"title\":\"Who are these people?\",\"tool_events\":{\"id\":\"91523a22-f689-4f53-bf4b-486e757898c5\",\"type\":\"ToolEvents\"},\"tools\":[{\"id\":\"3aa7c6a6-39b0-443a-b60e-61ddefd614a4\",\"type\":\"PanTool\"},{\"id\":\"3481ef2d-0103-4b19-b47e-503ecdf3df61\",\"type\":\"WheelZoomTool\"},{\"id\":\"1004c5fd-8922-4ca7-be3b-53b572e9cbaf\",\"type\":\"BoxZoomTool\"},{\"id\":\"34b2c535-9856-4918-8cd3-d3e4805a606a\",\"type\":\"PreviewSaveTool\"},{\"id\":\"f50572f3-3536-438b-9a4f-fc51157bc297\",\"type\":\"ResizeTool\"},{\"id\":\"6faea913-24ab-4f6f-9f15-98927b03ae7c\",\"type\":\"ResetTool\"},{\"id\":\"21edc428-fd8c-4741-8cb9-a770c06c2de6\",\"type\":\"HelpTool\"}],\"x_range\":{\"id\":\"ddc813b2-3920-41c2-b803-3504639dfd3e\",\"type\":\"DataRange1d\"},\"y_range\":{\"id\":\"9d6c20d8-c5f9-4731-894a-a081ec2bd6ca\",\"type\":\"DataRange1d\"}},\"id\":\"83f77f1d-9e88-4a99-bcae-f63865cda1e1\",\"subtype\":\"Figure\",\"type\":\"Plot\"},{\"attributes\":{},\"id\":\"b2ee46dc-6cb0-477e-9ac4-b711acdf0c59\",\"type\":\"BasicTickFormatter\"},{\"attributes\":{\"plot\":{\"id\":\"d4179104-7d30-434b-905e-c1d94ec8b428\",\"subtype\":\"Figure\",\"type\":\"Plot\"}},\"id\":\"a8bed054-93d1-4834-94c2-02477eed979e\",\"type\":\"PreviewSaveTool\"},{\"attributes\":{\"data_source\":{\"id\":\"faf7c3a9-5d35-47fb-be81-9dafd1e698e3\",\"type\":\"ColumnDataSource\"},\"glyph\":{\"id\":\"6ce5a415-c558-4324-ac98-1a03385af2bd\",\"type\":\"Text\"},\"hover_glyph\":null,\"nonselection_glyph\":{\"id\":\"fa76cfbd-5a02-4093-acb3-030b28e2ade2\",\"type\":\"Text\"},\"selection_glyph\":null},\"id\":\"5ccd396d-ad71-462b-ae25-b6912b61737f\",\"type\":\"GlyphRenderer\"},{\"attributes\":{\"callback\":null,\"column_names\":[\"y\",\"text\",\"x\"],\"data\":{\"text\":[\"miliband\"],\"x\":[0.00017556752068970783],\"y\":[4.0181985731984285e-05]}},\"id\":\"e858e79c-c36e-44df-acac-83f3476ba5e2\",\"type\":\"ColumnDataSource\"},{\"attributes\":{\"text_color\":{\"value\":\"black\"},\"x\":{\"field\":\"x\"},\"y\":{\"field\":\"y\"}},\"id\":\"335a46f5-18db-407c-8275-bca32bce520c\",\"type\":\"Text\"},{\"attributes\":{\"text_color\":{\"value\":\"black\"},\"x\":{\"field\":\"x\"},\"y\":{\"field\":\"y\"}},\"id\":\"5e21229a-d231-412d-946c-c3af9c1f2d7c\",\"type\":\"Text\"},{\"attributes\":{\"text_alpha\":{\"value\":0.1},\"text_color\":{\"value\":\"black\"},\"x\":{\"field\":\"x\"},\"y\":{\"field\":\"y\"}},\"id\":\"6a550658-87a8-4386-a566-3fb4ac835ae5\",\"type\":\"Text\"},{\"attributes\":{\"plot\":{\"id\":\"83f77f1d-9e88-4a99-bcae-f63865cda1e1\",\"subtype\":\"Figure\",\"type\":\"Plot\"},\"ticker\":{\"id\":\"c2a53d71-b9cf-4f67-875b-77c917c715a4\",\"type\":\"BasicTicker\"}},\"id\":\"274b429d-b9a6-4022-8cbd-0eabe7c79847\",\"type\":\"Grid\"},{\"attributes\":{\"callback\":null},\"id\":\"8b14fb3e-c2dd-449e-8c83-131e5e786abf\",\"type\":\"DataRange1d\"},{\"attributes\":{\"data_source\":{\"id\":\"8babbc7a-efdd-4846-8523-ea4b1703d533\",\"type\":\"ColumnDataSource\"},\"glyph\":{\"id\":\"24deca03-2f76-44b2-8991-6a9b48bfaf4a\",\"type\":\"Text\"},\"hover_glyph\":null,\"nonselection_glyph\":{\"id\":\"d823f266-f9dd-4cb0-84b6-0ad2beaab239\",\"type\":\"Text\"},\"selection_glyph\":null},\"id\":\"aa190d9c-ae29-48e5-bbcc-160a98d1fd0c\",\"type\":\"GlyphRenderer\"},{\"attributes\":{\"text_alpha\":{\"value\":0.1},\"text_color\":{\"value\":\"black\"},\"x\":{\"field\":\"x\"},\"y\":{\"field\":\"y\"}},\"id\":\"fa76cfbd-5a02-4093-acb3-030b28e2ade2\",\"type\":\"Text\"},{\"attributes\":{\"data_source\":{\"id\":\"b2df8fc4-ae01-4731-b69c-0dd34f665fd1\",\"type\":\"ColumnDataSource\"},\"glyph\":{\"id\":\"335a46f5-18db-407c-8275-bca32bce520c\",\"type\":\"Text\"},\"hover_glyph\":null,\"nonselection_glyph\":{\"id\":\"2558b4f4-8cd8-4742-81a2-7496fcc56b1c\",\"type\":\"Text\"},\"selection_glyph\":null},\"id\":\"e5a3eaa8-a8d0-4b3b-93d4-61295b811731\",\"type\":\"GlyphRenderer\"},{\"attributes\":{\"bottom_units\":\"screen\",\"fill_alpha\":{\"value\":0.5},\"fill_color\":{\"value\":\"lightgrey\"},\"left_units\":\"screen\",\"level\":\"overlay\",\"line_alpha\":{\"value\":1.0},\"line_color\":{\"value\":\"black\"},\"line_dash\":[4,4],\"line_width\":{\"value\":2},\"plot\":null,\"render_mode\":\"css\",\"right_units\":\"screen\",\"top_units\":\"screen\"},\"id\":\"f0d407da-bf6c-4a21-a22e-85822b95a590\",\"type\":\"BoxAnnotation\"},{\"attributes\":{\"plot\":{\"id\":\"83f77f1d-9e88-4a99-bcae-f63865cda1e1\",\"subtype\":\"Figure\",\"type\":\"Plot\"}},\"id\":\"3481ef2d-0103-4b19-b47e-503ecdf3df61\",\"type\":\"WheelZoomTool\"},{\"attributes\":{\"data_source\":{\"id\":\"fff0932f-ed4f-4d61-beb0-2371641d76b6\",\"type\":\"ColumnDataSource\"},\"glyph\":{\"id\":\"134527ce-3bc1-4ba6-9912-7146de2d533a\",\"type\":\"Circle\"},\"hover_glyph\":null,\"nonselection_glyph\":{\"id\":\"a8185c51-76c2-4570-bb96-159cecd25020\",\"type\":\"Circle\"},\"selection_glyph\":null},\"id\":\"f853049f-3a69-4eac-b4ca-cbfc9791ffc2\",\"type\":\"GlyphRenderer\"},{\"attributes\":{\"text_alpha\":{\"value\":0.1},\"text_color\":{\"value\":\"black\"},\"x\":{\"field\":\"x\"},\"y\":{\"field\":\"y\"}},\"id\":\"e47c5189-0abe-4509-bb6e-a8a4382751c2\",\"type\":\"Text\"},{\"attributes\":{\"plot\":{\"id\":\"d4179104-7d30-434b-905e-c1d94ec8b428\",\"subtype\":\"Figure\",\"type\":\"Plot\"}},\"id\":\"e064a5d4-3003-4076-9de4-c33b96e9a940\",\"type\":\"HelpTool\"},{\"attributes\":{\"text_alpha\":{\"value\":0.1},\"text_color\":{\"value\":\"black\"},\"x\":{\"field\":\"x\"},\"y\":{\"field\":\"y\"}},\"id\":\"0c34c361-8e90-41be-a834-30b7d8918939\",\"type\":\"Text\"},{\"attributes\":{\"data_source\":{\"id\":\"e858e79c-c36e-44df-acac-83f3476ba5e2\",\"type\":\"ColumnDataSource\"},\"glyph\":{\"id\":\"8fa82510-53d4-4ea8-ae78-67c1131f1b70\",\"type\":\"Text\"},\"hover_glyph\":null,\"nonselection_glyph\":{\"id\":\"a89c33f6-e288-46f6-9964-5ee23d1d0b60\",\"type\":\"Text\"},\"selection_glyph\":null},\"id\":\"cc324fd2-e315-499f-a792-95300050e292\",\"type\":\"GlyphRenderer\"},{\"attributes\":{\"data_source\":{\"id\":\"5c82c22a-7a22-49f3-b1c9-453aa4376f32\",\"type\":\"ColumnDataSource\"},\"glyph\":{\"id\":\"5e21229a-d231-412d-946c-c3af9c1f2d7c\",\"type\":\"Text\"},\"hover_glyph\":null,\"nonselection_glyph\":{\"id\":\"512ce25c-ca63-4f48-8e62-6eea5306c166\",\"type\":\"Text\"},\"selection_glyph\":null},\"id\":\"b914a1ab-29db-43de-9333-5ad85144f424\",\"type\":\"GlyphRenderer\"},{\"attributes\":{\"plot\":{\"id\":\"d4179104-7d30-434b-905e-c1d94ec8b428\",\"subtype\":\"Figure\",\"type\":\"Plot\"}},\"id\":\"4608a5b4-f4b4-44d7-8848-b2c44e7a7809\",\"type\":\"WheelZoomTool\"},{\"attributes\":{},\"id\":\"276dd43f-a940-4ade-8084-092fb66a4eb1\",\"type\":\"BasicTickFormatter\"},{\"attributes\":{\"plot\":{\"id\":\"d4179104-7d30-434b-905e-c1d94ec8b428\",\"subtype\":\"Figure\",\"type\":\"Plot\"},\"ticker\":{\"id\":\"119fda42-fe08-431a-b682-453e59c3a091\",\"type\":\"BasicTicker\"}},\"id\":\"6e2b9feb-3f57-44e4-a407-327d5c2f4558\",\"type\":\"Grid\"},{\"attributes\":{\"data_source\":{\"id\":\"8497615a-2666-4b6f-9006-da44009b767e\",\"type\":\"ColumnDataSource\"},\"glyph\":{\"id\":\"8a43107c-af95-4eaf-94c9-ce7be3135a04\",\"type\":\"Text\"},\"hover_glyph\":null,\"nonselection_glyph\":{\"id\":\"8fdee803-7bee-4ae9-9027-67f1a73e0a97\",\"type\":\"Text\"},\"selection_glyph\":null},\"id\":\"fd1ff3d8-d00b-46bc-ac9a-dc4d43727889\",\"type\":\"GlyphRenderer\"},{\"attributes\":{},\"id\":\"bdec01f3-9aa0-4e05-a3c6-53ddf5845f40\",\"type\":\"ToolEvents\"},{\"attributes\":{\"text_color\":{\"value\":\"black\"},\"x\":{\"field\":\"x\"},\"y\":{\"field\":\"y\"}},\"id\":\"24deca03-2f76-44b2-8991-6a9b48bfaf4a\",\"type\":\"Text\"},{\"attributes\":{\"text_alpha\":{\"value\":0.1},\"text_color\":{\"value\":\"black\"},\"x\":{\"field\":\"x\"},\"y\":{\"field\":\"y\"}},\"id\":\"2558b4f4-8cd8-4742-81a2-7496fcc56b1c\",\"type\":\"Text\"},{\"attributes\":{\"fill_alpha\":{\"value\":0.1},\"fill_color\":{\"value\":\"#1f77b4\"},\"line_alpha\":{\"value\":0.1},\"line_color\":{\"value\":\"#1f77b4\"},\"x\":{\"field\":\"x\"},\"y\":{\"field\":\"y\"}},\"id\":\"07f478a6-67bb-4283-87ac-c4d48ca81948\",\"type\":\"Circle\"},{\"attributes\":{\"text_color\":{\"value\":\"black\"},\"x\":{\"field\":\"x\"},\"y\":{\"field\":\"y\"}},\"id\":\"2371fe92-a435-4505-a0d3-9d1883326db6\",\"type\":\"Text\"},{\"attributes\":{\"text_alpha\":{\"value\":0.1},\"text_color\":{\"value\":\"black\"},\"x\":{\"field\":\"x\"},\"y\":{\"field\":\"y\"}},\"id\":\"a89c33f6-e288-46f6-9964-5ee23d1d0b60\",\"type\":\"Text\"},{\"attributes\":{\"text_alpha\":{\"value\":0.1},\"text_color\":{\"value\":\"black\"},\"x\":{\"field\":\"x\"},\"y\":{\"field\":\"y\"}},\"id\":\"8fdee803-7bee-4ae9-9027-67f1a73e0a97\",\"type\":\"Text\"},{\"attributes\":{\"callback\":null,\"column_names\":[\"y\",\"x\"],\"data\":{\"x\":[0.00017556752068970783,9.796483406690217e-05,0.00018545834414803838,9.501815219600147e-05,-8.9218543606267e-06,1.4937718345578333e-05],\"y\":[4.0181985731984285e-05,0.00022146921516493252,-9.524807567101665e-05,-1.4514607534496828e-05,4.0991507266997336e-05,0.00014414932548595123]}},\"id\":\"eb9f5e43-24c4-48bb-a23a-e7f4b7066288\",\"type\":\"ColumnDataSource\"},{\"attributes\":{\"plot\":{\"id\":\"d4179104-7d30-434b-905e-c1d94ec8b428\",\"subtype\":\"Figure\",\"type\":\"Plot\"}},\"id\":\"41017c13-2ef4-4ae8-a198-e7690b460de9\",\"type\":\"ResizeTool\"},{\"attributes\":{},\"id\":\"1047996a-7c47-44d3-9ac9-ecd2e243c1f7\",\"type\":\"BasicTicker\"},{\"attributes\":{\"callback\":null,\"column_names\":[\"y\",\"text\",\"x\"],\"data\":{\"text\":[\"clegg\"],\"x\":[9.796483406690217e-05],\"y\":[0.00022146921516493252]}},\"id\":\"0e464b50-513a-433d-9857-cc815ba89232\",\"type\":\"ColumnDataSource\"},{\"attributes\":{\"text_color\":{\"value\":\"black\"},\"x\":{\"field\":\"x\"},\"y\":{\"field\":\"y\"}},\"id\":\"cbeeefd1-2389-4c08-a725-9a49a8b14d85\",\"type\":\"Text\"},{\"attributes\":{\"dimension\":1,\"plot\":{\"id\":\"d4179104-7d30-434b-905e-c1d94ec8b428\",\"subtype\":\"Figure\",\"type\":\"Plot\"},\"ticker\":{\"id\":\"1047996a-7c47-44d3-9ac9-ecd2e243c1f7\",\"type\":\"BasicTicker\"}},\"id\":\"a9321524-0fb1-48e2-99d3-aa967b5675a0\",\"type\":\"Grid\"},{\"attributes\":{\"data_source\":{\"id\":\"0e59af41-5f25-47ea-9483-94dc903c64f6\",\"type\":\"ColumnDataSource\"},\"glyph\":{\"id\":\"27c38239-b18d-488d-b0b0-72e743d90af9\",\"type\":\"Text\"},\"hover_glyph\":null,\"nonselection_glyph\":{\"id\":\"d8b65b3a-1a9f-4418-a0ac-bb2fc08729c4\",\"type\":\"Text\"},\"selection_glyph\":null},\"id\":\"2932613b-992e-4ad3-aacb-cb9f5489d246\",\"type\":\"GlyphRenderer\"},{\"attributes\":{\"formatter\":{\"id\":\"276dd43f-a940-4ade-8084-092fb66a4eb1\",\"type\":\"BasicTickFormatter\"},\"plot\":{\"id\":\"83f77f1d-9e88-4a99-bcae-f63865cda1e1\",\"subtype\":\"Figure\",\"type\":\"Plot\"},\"ticker\":{\"id\":\"94307e5e-c62b-425e-a0c1-c739399ae35c\",\"type\":\"BasicTicker\"}},\"id\":\"0e7fda4a-62dc-4b16-aec9-5befca83e571\",\"type\":\"LinearAxis\"},{\"attributes\":{\"overlay\":{\"id\":\"2f51376b-2af0-4df2-893f-ea0355bc6d90\",\"type\":\"BoxAnnotation\"},\"plot\":{\"id\":\"83f77f1d-9e88-4a99-bcae-f63865cda1e1\",\"subtype\":\"Figure\",\"type\":\"Plot\"}},\"id\":\"1004c5fd-8922-4ca7-be3b-53b572e9cbaf\",\"type\":\"BoxZoomTool\"},{\"attributes\":{\"fill_alpha\":{\"value\":0.1},\"fill_color\":{\"value\":\"#1f77b4\"},\"line_alpha\":{\"value\":0.1},\"line_color\":{\"value\":\"#1f77b4\"},\"x\":{\"field\":\"x\"},\"y\":{\"field\":\"y\"}},\"id\":\"a8185c51-76c2-4570-bb96-159cecd25020\",\"type\":\"Circle\"},{\"attributes\":{\"callback\":null,\"column_names\":[\"y\",\"x\"],\"data\":{\"x\":[0.00017556752068970783,9.796483406690217e-05,0.00018545834414803838,9.501815219600147e-05,-8.9218543606267e-06,1.4937718345578333e-05],\"y\":[4.0181985731984285e-05,0.00022146921516493252,-9.524807567101665e-05,-1.4514607534496828e-05,4.0991507266997336e-05,0.00014414932548595123]}},\"id\":\"fff0932f-ed4f-4d61-beb0-2371641d76b6\",\"type\":\"ColumnDataSource\"},{\"attributes\":{\"callback\":null},\"id\":\"9d6c20d8-c5f9-4731-894a-a081ec2bd6ca\",\"type\":\"DataRange1d\"},{\"attributes\":{\"text_color\":{\"value\":\"black\"},\"x\":{\"field\":\"x\"},\"y\":{\"field\":\"y\"}},\"id\":\"19ac3ccf-d123-43f4-ad26-ef32532bc865\",\"type\":\"Text\"},{\"attributes\":{\"text_color\":{\"value\":\"black\"},\"x\":{\"field\":\"x\"},\"y\":{\"field\":\"y\"}},\"id\":\"27c38239-b18d-488d-b0b0-72e743d90af9\",\"type\":\"Text\"},{\"attributes\":{\"data_source\":{\"id\":\"a6e04384-e968-4514-bfac-ce046b038499\",\"type\":\"ColumnDataSource\"},\"glyph\":{\"id\":\"a057794f-8dc7-425a-8862-79e13b71ee35\",\"type\":\"Text\"},\"hover_glyph\":null,\"nonselection_glyph\":{\"id\":\"6a550658-87a8-4386-a566-3fb4ac835ae5\",\"type\":\"Text\"},\"selection_glyph\":null},\"id\":\"d11390c4-084c-4f93-8a31-13798c9b9763\",\"type\":\"GlyphRenderer\"},{\"attributes\":{\"fill_color\":{\"value\":\"#1f77b4\"},\"line_color\":{\"value\":\"#1f77b4\"},\"x\":{\"field\":\"x\"},\"y\":{\"field\":\"y\"}},\"id\":\"134527ce-3bc1-4ba6-9912-7146de2d533a\",\"type\":\"Circle\"},{\"attributes\":{\"text_color\":{\"value\":\"black\"},\"x\":{\"field\":\"x\"},\"y\":{\"field\":\"y\"}},\"id\":\"a057794f-8dc7-425a-8862-79e13b71ee35\",\"type\":\"Text\"},{\"attributes\":{\"callback\":null,\"column_names\":[\"y\",\"text\",\"x\"],\"data\":{\"text\":[\"sturgeon\"],\"x\":[9.501815219600147e-05],\"y\":[-1.4514607534496828e-05]}},\"id\":\"8497615a-2666-4b6f-9006-da44009b767e\",\"type\":\"ColumnDataSource\"},{\"attributes\":{\"formatter\":{\"id\":\"b2ee46dc-6cb0-477e-9ac4-b711acdf0c59\",\"type\":\"BasicTickFormatter\"},\"plot\":{\"id\":\"83f77f1d-9e88-4a99-bcae-f63865cda1e1\",\"subtype\":\"Figure\",\"type\":\"Plot\"},\"ticker\":{\"id\":\"c2a53d71-b9cf-4f67-875b-77c917c715a4\",\"type\":\"BasicTicker\"}},\"id\":\"192a936a-21a5-49c7-aaba-5716bc4021c6\",\"type\":\"LinearAxis\"},{\"attributes\":{\"plot\":{\"id\":\"83f77f1d-9e88-4a99-bcae-f63865cda1e1\",\"subtype\":\"Figure\",\"type\":\"Plot\"}},\"id\":\"21edc428-fd8c-4741-8cb9-a770c06c2de6\",\"type\":\"HelpTool\"},{\"attributes\":{\"dimension\":1,\"plot\":{\"id\":\"83f77f1d-9e88-4a99-bcae-f63865cda1e1\",\"subtype\":\"Figure\",\"type\":\"Plot\"},\"ticker\":{\"id\":\"94307e5e-c62b-425e-a0c1-c739399ae35c\",\"type\":\"BasicTicker\"}},\"id\":\"be039f20-e9c2-4cf5-a896-e84555caf687\",\"type\":\"Grid\"},{\"attributes\":{\"text_color\":{\"value\":\"black\"},\"x\":{\"field\":\"x\"},\"y\":{\"field\":\"y\"}},\"id\":\"8a43107c-af95-4eaf-94c9-ce7be3135a04\",\"type\":\"Text\"},{\"attributes\":{\"callback\":null,\"column_names\":[\"y\",\"text\",\"x\"],\"data\":{\"text\":[\"bennett\"],\"x\":[0.00018545834414803838],\"y\":[-9.524807567101665e-05]}},\"id\":\"0e59af41-5f25-47ea-9483-94dc903c64f6\",\"type\":\"ColumnDataSource\"},{\"attributes\":{},\"id\":\"94307e5e-c62b-425e-a0c1-c739399ae35c\",\"type\":\"BasicTicker\"},{\"attributes\":{\"callback\":null,\"column_names\":[\"y\",\"text\",\"x\"],\"data\":{\"text\":[\"cameron\"],\"x\":[1.4937718345578333e-05],\"y\":[0.00014414932548595123]}},\"id\":\"b2df8fc4-ae01-4731-b69c-0dd34f665fd1\",\"type\":\"ColumnDataSource\"},{\"attributes\":{\"text_alpha\":{\"value\":0.1},\"text_color\":{\"value\":\"black\"},\"x\":{\"field\":\"x\"},\"y\":{\"field\":\"y\"}},\"id\":\"512ce25c-ca63-4f48-8e62-6eea5306c166\",\"type\":\"Text\"},{\"attributes\":{\"formatter\":{\"id\":\"a09e0680-0996-4e71-9176-b105a72d17e7\",\"type\":\"BasicTickFormatter\"},\"plot\":{\"id\":\"d4179104-7d30-434b-905e-c1d94ec8b428\",\"subtype\":\"Figure\",\"type\":\"Plot\"},\"ticker\":{\"id\":\"1047996a-7c47-44d3-9ac9-ecd2e243c1f7\",\"type\":\"BasicTicker\"}},\"id\":\"4ab72580-9a11-40ea-9f9e-20ed79e28f7e\",\"type\":\"LinearAxis\"},{\"attributes\":{\"below\":[{\"id\":\"09b002bb-7cfe-43a5-b4ab-d07c424ab5c9\",\"type\":\"LinearAxis\"}],\"left\":[{\"id\":\"4ab72580-9a11-40ea-9f9e-20ed79e28f7e\",\"type\":\"LinearAxis\"}],\"renderers\":[{\"id\":\"09b002bb-7cfe-43a5-b4ab-d07c424ab5c9\",\"type\":\"LinearAxis\"},{\"id\":\"6e2b9feb-3f57-44e4-a407-327d5c2f4558\",\"type\":\"Grid\"},{\"id\":\"4ab72580-9a11-40ea-9f9e-20ed79e28f7e\",\"type\":\"LinearAxis\"},{\"id\":\"a9321524-0fb1-48e2-99d3-aa967b5675a0\",\"type\":\"Grid\"},{\"id\":\"f0d407da-bf6c-4a21-a22e-85822b95a590\",\"type\":\"BoxAnnotation\"},{\"id\":\"f853049f-3a69-4eac-b4ca-cbfc9791ffc2\",\"type\":\"GlyphRenderer\"},{\"id\":\"cc324fd2-e315-499f-a792-95300050e292\",\"type\":\"GlyphRenderer\"},{\"id\":\"0d331bcf-45ce-4dbe-be98-053f0b8b2c47\",\"type\":\"GlyphRenderer\"},{\"id\":\"aa190d9c-ae29-48e5-bbcc-160a98d1fd0c\",\"type\":\"GlyphRenderer\"},{\"id\":\"5ccd396d-ad71-462b-ae25-b6912b61737f\",\"type\":\"GlyphRenderer\"},{\"id\":\"b914a1ab-29db-43de-9333-5ad85144f424\",\"type\":\"GlyphRenderer\"},{\"id\":\"2b3a74f0-af49-42bb-aa9b-79030ae95060\",\"type\":\"GlyphRenderer\"}],\"title\":\"Who are these people?\",\"tool_events\":{\"id\":\"bdec01f3-9aa0-4e05-a3c6-53ddf5845f40\",\"type\":\"ToolEvents\"},\"tools\":[{\"id\":\"77839af3-0246-49f9-8629-3589f5e82eb1\",\"type\":\"PanTool\"},{\"id\":\"4608a5b4-f4b4-44d7-8848-b2c44e7a7809\",\"type\":\"WheelZoomTool\"},{\"id\":\"2e20429f-73aa-44fd-9d21-80d369045779\",\"type\":\"BoxZoomTool\"},{\"id\":\"a8bed054-93d1-4834-94c2-02477eed979e\",\"type\":\"PreviewSaveTool\"},{\"id\":\"41017c13-2ef4-4ae8-a198-e7690b460de9\",\"type\":\"ResizeTool\"},{\"id\":\"df1fd8bf-875d-4571-86a7-444e1bb6f129\",\"type\":\"ResetTool\"},{\"id\":\"e064a5d4-3003-4076-9de4-c33b96e9a940\",\"type\":\"HelpTool\"}],\"x_range\":{\"id\":\"348110ef-0ec6-4ef7-be2d-6b501ca31d74\",\"type\":\"DataRange1d\"},\"y_range\":{\"id\":\"8b14fb3e-c2dd-449e-8c83-131e5e786abf\",\"type\":\"DataRange1d\"}},\"id\":\"d4179104-7d30-434b-905e-c1d94ec8b428\",\"subtype\":\"Figure\",\"type\":\"Plot\"},{\"attributes\":{\"callback\":null,\"column_names\":[\"y\",\"text\",\"x\"],\"data\":{\"text\":[\"clegg\"],\"x\":[9.796483406690217e-05],\"y\":[0.00022146921516493252]}},\"id\":\"2cc9a563-699f-4878-b601-ae619bd81861\",\"type\":\"ColumnDataSource\"},{\"attributes\":{\"text_alpha\":{\"value\":0.1},\"text_color\":{\"value\":\"black\"},\"x\":{\"field\":\"x\"},\"y\":{\"field\":\"y\"}},\"id\":\"25ab85bb-db55-42d6-afa8-f344698f7ec4\",\"type\":\"Text\"},{\"attributes\":{\"callback\":null,\"column_names\":[\"y\",\"text\",\"x\"],\"data\":{\"text\":[\"farage\"],\"x\":[-8.9218543606267e-06],\"y\":[4.0991507266997336e-05]}},\"id\":\"5c82c22a-7a22-49f3-b1c9-453aa4376f32\",\"type\":\"ColumnDataSource\"},{\"attributes\":{\"text_color\":{\"value\":\"black\"},\"x\":{\"field\":\"x\"},\"y\":{\"field\":\"y\"}},\"id\":\"6ce5a415-c558-4324-ac98-1a03385af2bd\",\"type\":\"Text\"},{\"attributes\":{},\"id\":\"91523a22-f689-4f53-bf4b-486e757898c5\",\"type\":\"ToolEvents\"},{\"attributes\":{\"plot\":{\"id\":\"d4179104-7d30-434b-905e-c1d94ec8b428\",\"subtype\":\"Figure\",\"type\":\"Plot\"}},\"id\":\"df1fd8bf-875d-4571-86a7-444e1bb6f129\",\"type\":\"ResetTool\"},{\"attributes\":{\"plot\":{\"id\":\"83f77f1d-9e88-4a99-bcae-f63865cda1e1\",\"subtype\":\"Figure\",\"type\":\"Plot\"}},\"id\":\"f50572f3-3536-438b-9a4f-fc51157bc297\",\"type\":\"ResizeTool\"},{\"attributes\":{\"plot\":{\"id\":\"83f77f1d-9e88-4a99-bcae-f63865cda1e1\",\"subtype\":\"Figure\",\"type\":\"Plot\"}},\"id\":\"34b2c535-9856-4918-8cd3-d3e4805a606a\",\"type\":\"PreviewSaveTool\"},{\"attributes\":{\"formatter\":{\"id\":\"dba9b833-2686-4c4d-9792-3fa7cdf679f0\",\"type\":\"BasicTickFormatter\"},\"plot\":{\"id\":\"d4179104-7d30-434b-905e-c1d94ec8b428\",\"subtype\":\"Figure\",\"type\":\"Plot\"},\"ticker\":{\"id\":\"119fda42-fe08-431a-b682-453e59c3a091\",\"type\":\"BasicTicker\"}},\"id\":\"09b002bb-7cfe-43a5-b4ab-d07c424ab5c9\",\"type\":\"LinearAxis\"},{\"attributes\":{},\"id\":\"dba9b833-2686-4c4d-9792-3fa7cdf679f0\",\"type\":\"BasicTickFormatter\"}],\"root_ids\":[\"d4179104-7d30-434b-905e-c1d94ec8b428\",\"83f77f1d-9e88-4a99-bcae-f63865cda1e1\"]},\"title\":\"Bokeh Application\",\"version\":\"0.11.1\"}};\n",
       "            var render_items = [{\"docid\":\"a66775a8-437b-4f64-9329-0fbd9ffe5e64\",\"elementid\":\"1c879751-432a-4e49-8309-64b52f31c779\",\"modelid\":\"83f77f1d-9e88-4a99-bcae-f63865cda1e1\",\"notebook_comms_target\":\"02ae0b0a-f9cd-4f76-a97b-f28b230c5448\"}];\n",
       "            \n",
       "            Bokeh.embed.embed_items(docs_json, render_items);\n",
       "        });\n",
       "      },\n",
       "      function(Bokeh) {\n",
       "      }\n",
       "    ];\n",
       "  \n",
       "    function run_inline_js() {\n",
       "      for (var i = 0; i < inline_js.length; i++) {\n",
       "        inline_js[i](window.Bokeh);\n",
       "      }\n",
       "    }\n",
       "  \n",
       "    if (window._bokeh_is_loading === 0) {\n",
       "      console.log(\"Bokeh: BokehJS loaded, going straight to plotting\");\n",
       "      run_inline_js();\n",
       "    } else {\n",
       "      load_libs(js_urls, function() {\n",
       "        console.log(\"Bokeh: BokehJS plotting callback run at\", now());\n",
       "        run_inline_js();\n",
       "      });\n",
       "    }\n",
       "  }(this));\n",
       "</script>"
      ]
     },
     "metadata": {},
     "output_type": "display_data"
    },
    {
     "data": {
      "text/html": [
       "<p><code>&lt;Bokeh Notebook handle for <strong>In[5]</strong>&gt;</code></p>"
      ],
      "text/plain": [
       "<bokeh.io._CommsHandle at 0x126554f10>"
      ]
     },
     "execution_count": 5,
     "metadata": {},
     "output_type": "execute_result"
    }
   ],
   "source": [
    "show(p)"
   ]
  },
  {
   "cell_type": "code",
   "execution_count": 12,
   "metadata": {
    "collapsed": false,
    "slideshow": {
     "slide_type": "subslide"
    }
   },
   "outputs": [
    {
     "name": "stdout",
     "output_type": "stream",
     "text": [
      "Time taken for K Means clustering:  0.256619930267 seconds.\n"
     ]
    }
   ],
   "source": [
    "### Using the model\n",
    "###### Clustering\n",
    "from gensim.models.word2vec import Word2Vec\n",
    "from sklearn.cluster import KMeans\n",
    "import numpy as np\n",
    "import time\n",
    "\n",
    "model = Word2Vec.load_word2vec_format('/Users/bowang/Downloads/GoogleNews-vectors-negative300.bin', binary=True)\n",
    "#We want cluster 'britain' related 300 terms\n",
    "words = [i[0] for i in model.most_similar_cosmul('britain',topn=300)]\n",
    "word_vectors = [model[w] for w in words]\n",
    "word_vectors=np.asarray(word_vectors)\n",
    "\n",
    "start = time.time()\n",
    "num_clusters = 60\n",
    "#Initalize k-means to extract centroids\n",
    "kmeans_clustering = KMeans( n_clusters = num_clusters )\n",
    "idx = kmeans_clustering.fit_predict( word_vectors )\n",
    "end = time.time()\n",
    "elapsed = end - start\n",
    "print \"Time taken for K Means clustering: \", elapsed, \"seconds.\"\n",
    "\n",
    "#Create a {word: cluster no.} dictionary.\n",
    "word_centroid_map = dict(zip( words, idx ))\n",
    "#Print 10 terms in the first 10 clusters\n",
    "for cluster in xrange(0,10): \n",
    "    print \"\\nCluster %d\" % cluster\n",
    "    words = []\n",
    "    for i in xrange(0,len(word_centroid_map.values())):\n",
    "        if( word_centroid_map.values()[i] == cluster ):\n",
    "            words.append(word_centroid_map.keys()[i])\n",
    "    print words[:10]"
   ]
  },
  {
   "cell_type": "code",
   "execution_count": 13,
   "metadata": {
    "collapsed": false,
    "slideshow": {
     "slide_type": "subslide"
    }
   },
   "outputs": [
    {
     "name": "stdout",
     "output_type": "stream",
     "text": [
      "\n",
      "Cluster 0\n",
      "[u'hollywood']\n",
      "\n",
      "Cluster 1\n",
      "[u'greece', u'cubans', u'malta', u'northern_ireland']\n",
      "\n",
      "Cluster 2\n",
      "[u'naija', u'nigerians', u'nigerian', u'jos', u'zim', u'hausa', u'kenya']\n",
      "\n",
      "Cluster 3\n",
      "[u'lewis', u'mcdonald', u'thompson', u'pearson', u'christopher', u'alexander', u'alex', u'arthur', u'marcus', u'hansen']\n",
      "\n",
      "Cluster 4\n",
      "[u'newcastle', u'burnley', u'blackpool', u'wembley', u'cardiff', u'charlton', u'wigan', u'portsmouth', u'fulham', u'bolton']\n",
      "\n",
      "Cluster 5\n",
      "[u'NuLabour', u'EUSSR', u'lib_dems', u'tories', u'Maggie_Thatcher']\n",
      "\n",
      "Cluster 6\n",
      "[u'serbs', u'serbia', u'putin', u'russians', u'germans']\n",
      "\n",
      "Cluster 7\n",
      "[u'caroline', u'julia', u'laura', u'victoria', u'murdoch', u'sarah', u'sharon', u'darren', u'mr', u'westminster']\n",
      "\n",
      "Cluster 8\n",
      "[u'shyt']\n",
      "\n",
      "Cluster 9\n",
      "[u'arab', u'israeli', u'syria', u'israel', u'lebanon']\n"
     ]
    }
   ],
   "source": [
    "#Result:"
   ]
  },
  {
   "cell_type": "markdown",
   "metadata": {
    "slideshow": {
     "slide_type": "notes"
    }
   },
   "source": [
    "* Word vectorization requires a lot of text. Like millions of tweets or 1000s books.\n",
    "* Word2vec settings.\n",
    "* Cleaning the text. There are a few tools that can help like FTFY, SpaCy, NLTK, and the Stanford Core NLP. \n",
    "* Memory & performance. The training of vectors requires a high-memory and high-performance multicore machine.\n",
    "* Databases.\n",
    "* False-positives.\n"
   ]
  },
  {
   "cell_type": "code",
   "execution_count": null,
   "metadata": {
    "collapsed": true,
    "slideshow": {
     "slide_type": "skip"
    }
   },
   "outputs": [],
   "source": [
    "### Using the model\n",
    "###### Topic Modelling \n",
    "import cPickle\n",
    "from gensim import corpora\n",
    "from gensim.models import ldamodel, tfidfmodel\n",
    "from operator import itemgetter\n",
    "\n",
    "#Load already preprocessed and tokenized data:\n",
    "data = cPickle.load(open('/Users/bowang/Data/uk-election-data/topics/tweet_content.p', 'rb'))\n",
    "\n",
    "#Build dictionary aka mapping between words and their ids:\n",
    "dictionary = corpora.Dictionary(data)\n",
    "print 'This dictionary has %i unique tokens'%(len(dictionary))\n",
    "\n",
    "#Convert tokenized data to vectors:\n",
    "corpus = [dictionary.doc2bow(text) for text in data]\n",
    "n_topics = 10\n",
    "lda = ldamodel.LdaModel(corpus, id2word=dictionary, num_topics=n_topics, alpha='auto')\n",
    "\n",
    "#lda.print_topics()\n",
    "for i in range(0, n_topics):\n",
    "    temp = lda.show_topic(i, 10)\n",
    "    terms = []\n",
    "    for term in temp:\n",
    "        terms.append(term[1])\n",
    "    print \"Top 10 terms for topic #\" + str(i) + \": \"+ \", \".join(terms)"
   ]
  },
  {
   "cell_type": "markdown",
   "metadata": {
    "slideshow": {
     "slide_type": "slide"
    }
   },
   "source": [
    "## spaCy\n",
    "\n",
    "* Doesn't have a comprehensive list of functionalities as NLTK. \n",
    "* But has good defaults. \n",
    "* Fast.\n",
    "* More accurate tagger and parser than NLTK (?) <br><br>\n",
    "* **Word vector!**\n",
    "    * By default, spaCy currently loads vectors produced by the [Levy and Goldberg (2014)](https://levyomer.files.wordpress.com/2014/04/dependency-based-word-embeddings-acl-2014.pdf) dependency-based word2vec model.\n",
    "    * Use other word vectors (e.g. GloVe)?\n",
    "        * https://spacy.io/tutorials/load-new-word-vectors\n"
   ]
  },
  {
   "cell_type": "code",
   "execution_count": 1,
   "metadata": {
    "collapsed": false,
    "slideshow": {
     "slide_type": "subslide"
    }
   },
   "outputs": [
    {
     "name": "stdout",
     "output_type": "stream",
     "text": [
      "Top 10 most similar words to python:\n",
      "smalltalk\n",
      "perl\n",
      "prolog\n",
      "matlab\n",
      "bozo\n",
      "ocaml\n",
      "jscript\n",
      "konqueror\n",
      "labview\n",
      "spiderman\n"
     ]
    }
   ],
   "source": [
    "from spacy.en import English\n",
    "nlp = English()\n",
    "\n",
    "python = nlp(u'python')\n",
    "#orth/orth_ is the form of the word with no string normalization or processing, as it appears in the string, without trailing whitespace.\n",
    "allWords = list({w for w in nlp.vocab if w.orth_.islower() and w.lower_ != \"python\"})\n",
    "allWords.sort(key=lambda w: w.similarity(python))\n",
    "allWords.reverse()\n",
    "print(\"Top 10 most similar words to python:\")\n",
    "for word in allWords[:10]:   \n",
    "    print(word.orth_)"
   ]
  },
  {
   "cell_type": "markdown",
   "metadata": {
    "slideshow": {
     "slide_type": "subslide"
    }
   },
   "source": [
    "###### Dependency-Based Word Embeddings\n",
    "* http://irsrv2.cs.biu.ac.il:9998/?word=hogwarts\n",
    "<br><br>\n",
    "\n",
    "<img style=\"float: left\" src=\"images/omer_levy1.png\" width=\"420\"/> <img style=\"float: right\" src=\"images/omer_levy2.png\" width=\"370\"/>"
   ]
  },
  {
   "cell_type": "markdown",
   "metadata": {
    "slideshow": {
     "slide_type": "slide"
    }
   },
   "source": [
    "## Use Cases \\#1:\n",
    "#### stitchfix\n",
    "\n",
    "* Say we know a customer liked an item and we know she recently became pregnant, we want to find her something she might like.\n",
    "\n",
    "<img style=\"float: left\" src=\"images/stitchfix_1.png\" width=\"200\"> <img style=\"float: right\" src=\"images/stitchfix_2.png\" width=\"600\">\n",
    "\n",
    "* Here we’ve simply added the word vector for pregnant to the word vector for item_3469, and looked up the word vectors most similar to that result:\n",
    "\n",
    "\n",
    "```python\n",
    ">>> model.most_similar('ITEM_3469', 'pregnant')\n",
    ">>> matches = list(filter(lambda x: 'ITEM_' in x[0], matches))\n",
    "# ['ITEM_13792',\n",
    "# 'ITEM_11275',\n",
    "# 'ITEM_11868']\n",
    "```"
   ]
  },
  {
   "cell_type": "markdown",
   "metadata": {
    "slideshow": {
     "slide_type": "subslide"
    }
   },
   "source": [
    "## Use Cases \\#2:\n",
    "#### Lyst\n",
    "\n",
    "<img style=\"float: left\" src=\"images/lyst_1.png\" width=\"400\"> <img style=\"float: right\" src=\"images/lyst_2.png\" width=\"400\">"
   ]
  },
  {
   "cell_type": "markdown",
   "metadata": {
    "slideshow": {
     "slide_type": "subslide"
    }
   },
   "source": [
    "## Use Cases \\#3:\n",
    "\n",
    "* [Hotel recommendation](http://demo.trustyou.com/)\n",
    "\n",
    "\n",
    "\n",
    "* [Find movies and shows that are similar yet different](http://www.bookspace.co)\n",
    "    * Used Doc2vec"
   ]
  },
  {
   "cell_type": "markdown",
   "metadata": {
    "collapsed": false,
    "slideshow": {
     "slide_type": "slide"
    }
   },
   "source": [
    "## Resources:\n",
    "\n",
    "* [A brilliant blog post on Word Vector](http://multithreaded.stitchfix.com/blog/2015/03/11/word-is-worth-a-thousand-vectors)\n",
    "* [Another interesting blog post on NN, Word Vector and Shared Representations](http://colah.github.io/posts/2014-07-NLP-RNNs-Representations/)\n",
    "* [Clustering words using the Chinese Restaurant Process](http://eng.kifi.com/from-word2vec-to-doc2vec-an-approach-driven-by-chinese-restaurant-process/)\n",
    "* [Word2vec parameter learning explained](http://www-personal.umich.edu/~ronxin/pdf/w2vexp.pdf)\n",
    "* Check out http://lexicon.gavagai.se/\n",
    "* Where to get a pretrained model: https://github.com/3Top/word2vec-api/\n",
    "* Python implementation of GloVe: https://github.com/maciejkula/glove-python\n",
    "* Gensim doc2vec: https://radimrehurek.com/gensim/models/doc2vec.html\n",
    "* spaCy Doc: https://spacy.io/docs\n",
    "* smart_open: https://github.com/piskvorky/smart_open\n",
    "* Other tools:\n",
    "     * Scikit-Learn: http://scikit-learn.org/stable/\n",
    "     * Vowpal Wabbit: http://hunch.net/~vw/\n",
    "     * Spark: https://spark.apache.org/\n",
    "     * Mallet (Java): http://mallet.cs.umass.edu/"
   ]
  },
  {
   "cell_type": "code",
   "execution_count": 3,
   "metadata": {
    "collapsed": false,
    "slideshow": {
     "slide_type": "slide"
    }
   },
   "outputs": [
    {
     "name": "stdout",
     "output_type": "stream",
     "text": [
      "Thank you!\n"
     ]
    }
   ],
   "source": [
    "print \"Thank you!\""
   ]
  }
 ],
 "metadata": {
  "anaconda-cloud": {},
  "celltoolbar": "Slideshow",
  "kernelspec": {
   "display_name": "Python [default]",
   "language": "python",
   "name": "python2"
  },
  "language_info": {
   "codemirror_mode": {
    "name": "ipython",
    "version": 2
   },
   "file_extension": ".py",
   "mimetype": "text/x-python",
   "name": "python",
   "nbconvert_exporter": "python",
   "pygments_lexer": "ipython2",
   "version": "2.7.12"
  }
 },
 "nbformat": 4,
 "nbformat_minor": 0
}
